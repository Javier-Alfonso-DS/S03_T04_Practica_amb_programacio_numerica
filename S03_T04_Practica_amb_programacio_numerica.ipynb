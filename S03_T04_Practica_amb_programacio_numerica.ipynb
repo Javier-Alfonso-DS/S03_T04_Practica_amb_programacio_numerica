{
  "nbformat": 4,
  "nbformat_minor": 0,
  "metadata": {
    "colab": {
      "name": "S03_T04_Practica_amb_programacio_numerica.ipynb",
      "provenance": [],
      "authorship_tag": "ABX9TyOVbv+J2LAvcBed/lXNLvxW",
      "include_colab_link": true
    },
    "kernelspec": {
      "name": "python3",
      "display_name": "Python 3"
    },
    "language_info": {
      "name": "python"
    }
  },
  "cells": [
    {
      "cell_type": "markdown",
      "metadata": {
        "id": "view-in-github",
        "colab_type": "text"
      },
      "source": [
        "<a href=\"https://colab.research.google.com/github/Javier-Alfonso-DS/S03_T04_Practica_amb_programacio_numerica/blob/main/S03_T04_Practica_amb_programacio_numerica.ipynb\" target=\"_parent\"><img src=\"https://colab.research.google.com/assets/colab-badge.svg\" alt=\"Open In Colab\"/></a>"
      ]
    },
    {
      "cell_type": "code",
      "metadata": {
        "id": "ciyxve8Cs5j2"
      },
      "source": [
        ""
      ],
      "execution_count": null,
      "outputs": []
    }
  ]
}